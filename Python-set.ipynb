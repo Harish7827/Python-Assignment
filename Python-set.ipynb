{
 "cells": [
  {
   "cell_type": "code",
   "execution_count": 1,
   "metadata": {},
   "outputs": [],
   "source": [
    "# Q1. What is a set in Python?\n",
    "\n",
    "# Sets are used to store multiple items in a single variable.\n",
    "# A set is collection which is unordered, unchangeable, and unindexed."
   ]
  },
  {
   "cell_type": "code",
   "execution_count": 19,
   "metadata": {},
   "outputs": [
    {
     "name": "stdout",
     "output_type": "stream",
     "text": [
      "<class 'set'>\n"
     ]
    }
   ],
   "source": [
    "# Q2.How do you create a set in Python?\n",
    "\n",
    "# In Python, we create sets by placing all the element inside curly braces {}.\n",
    "\n",
    "set = {1,2,3,4,5}\n",
    "print(type(set))"
   ]
  },
  {
   "cell_type": "code",
   "execution_count": 18,
   "metadata": {},
   "outputs": [
    {
     "name": "stdout",
     "output_type": "stream",
     "text": [
      "{2, 3, 4, 6}\n"
     ]
    }
   ],
   "source": [
    "# Q3. How do you add elements to a set in Python?\n",
    "\n",
    "# By using add() method with the new item to be added passed in as a parameter.\n",
    "set.add(6)\n",
    "print(set)"
   ]
  },
  {
   "cell_type": "code",
   "execution_count": 21,
   "metadata": {},
   "outputs": [],
   "source": [
    "# Q4. How do you remove elements from a set in Python?\n",
    "\n",
    "# By using remove() method or discard() method with the parameter.\n",
    "\n",
    "# set.remove(6)\n",
    "# set.discard(5)"
   ]
  },
  {
   "cell_type": "code",
   "execution_count": 23,
   "metadata": {},
   "outputs": [
    {
     "name": "stdout",
     "output_type": "stream",
     "text": [
      "5\n"
     ]
    }
   ],
   "source": [
    "# Q5. How do you get the length of a set in Python?\n",
    "\n",
    "# By using len() function we can get length of a set.\n",
    "\n",
    "print(len(set))"
   ]
  }
 ],
 "metadata": {
  "kernelspec": {
   "display_name": "Python 3",
   "language": "python",
   "name": "python3"
  },
  "language_info": {
   "codemirror_mode": {
    "name": "ipython",
    "version": 3
   },
   "file_extension": ".py",
   "mimetype": "text/x-python",
   "name": "python",
   "nbconvert_exporter": "python",
   "pygments_lexer": "ipython3",
   "version": "3.10.2"
  },
  "orig_nbformat": 4
 },
 "nbformat": 4,
 "nbformat_minor": 2
}
