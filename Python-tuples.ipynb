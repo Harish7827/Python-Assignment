{
 "cells": [
  {
   "cell_type": "code",
   "execution_count": 1,
   "metadata": {},
   "outputs": [],
   "source": [
    "# Q1. What is a tuple in Python?\n",
    "\n",
    "# Tuples are used to store multiple items in a single variable.\n",
    "# A tuple is a collection which is ordered and unchangeable."
   ]
  },
  {
   "cell_type": "code",
   "execution_count": 2,
   "metadata": {},
   "outputs": [
    {
     "name": "stdout",
     "output_type": "stream",
     "text": [
      "<class 'tuple'>\n"
     ]
    }
   ],
   "source": [
    "# Q2. How do you create a tuple in Python?\n",
    "\n",
    "# Tuples are written with round brackets (parenthesis).\n",
    "# A tuple in python can be created by enclosed all comma - separated elements inside the parenthesis().\n",
    "\n",
    "tuple = (1,2,3,4)\n",
    "print(type(tuple))"
   ]
  },
  {
   "cell_type": "code",
   "execution_count": 3,
   "metadata": {},
   "outputs": [],
   "source": [
    "# Q3. What is the difference between a tuple and a list in Python?\n",
    "\n",
    "# The primary difference between tuples and lists is that tuples are immutable as opposed to list which is mutable. Therefore, it is possible to change a list but not a tuple."
   ]
  },
  {
   "cell_type": "code",
   "execution_count": 5,
   "metadata": {},
   "outputs": [],
   "source": [
    "# Q4. Can a tuple be changed in Python?\n",
    "\n",
    "# No, once a tuple is created, you cannot change its values due to its nature.\n",
    "# Tuple are immutable in nature or unchangeable."
   ]
  },
  {
   "cell_type": "code",
   "execution_count": 6,
   "metadata": {},
   "outputs": [],
   "source": [
    "# Q5. How do you access elements in a tuple?\n",
    "\n",
    "# Tuple items can be access by indexing."
   ]
  },
  {
   "cell_type": "code",
   "execution_count": 9,
   "metadata": {},
   "outputs": [
    {
     "name": "stdout",
     "output_type": "stream",
     "text": [
      "apple\n",
      "banana\n",
      "mango\n"
     ]
    }
   ],
   "source": [
    "# Q6. How do you unpack a tuple in Python?\n",
    "\n",
    "# When we create a tuple, we normally assign values to it. This is called \"Packing\" a tuple.\n",
    "# But in Python, we are also allowed to extract the values back into variables. This is called \"Unpacking\".\n",
    "\n",
    "fruit = (\"apple\", \"banana\", \"mango\")\n",
    "(x, y, z) = fruit\n",
    "\n",
    "print(x)\n",
    "print(y)\n",
    "print(z)"
   ]
  }
 ],
 "metadata": {
  "kernelspec": {
   "display_name": "Python 3",
   "language": "python",
   "name": "python3"
  },
  "language_info": {
   "codemirror_mode": {
    "name": "ipython",
    "version": 3
   },
   "file_extension": ".py",
   "mimetype": "text/x-python",
   "name": "python",
   "nbconvert_exporter": "python",
   "pygments_lexer": "ipython3",
   "version": "3.10.2"
  },
  "orig_nbformat": 4
 },
 "nbformat": 4,
 "nbformat_minor": 2
}
