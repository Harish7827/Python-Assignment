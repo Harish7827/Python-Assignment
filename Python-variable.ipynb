{
 "cells": [
  {
   "cell_type": "code",
   "execution_count": 3,
   "metadata": {},
   "outputs": [],
   "source": [
    "# Q1. Write all the conventions being followed while declaring a variable.\n",
    "'''\n",
    "    (1) A variable name must start with a letter or the underscore character.\n",
    "    (2) A variable name cannot be start with a number.\n",
    "    (3) A variable name can only contain alpha-numeric characters and underscores.\n",
    "    (4) Variable names are case sensitive.\n",
    "'''"
   ]
  },
  {
   "cell_type": "code",
   "execution_count": 12,
   "metadata": {},
   "outputs": [
    {
     "data": {
      "text/plain": [
       "'\\n# Cell In[11], line 5\\n    True = 50\\n    ^\\nSyntaxError: cannot assign to True\\n'"
      ]
     },
     "execution_count": 12,
     "metadata": {},
     "output_type": "execute_result"
    }
   ],
   "source": [
    "# Q2. What will happen if we declare a restricted keyword as a variable?\n",
    "# When we declare a restricted keyword (reserved keyword) as a variable, it will show a syntax error\n",
    "# Example - \n",
    "\n",
    "'''\n",
    "True = 50\n",
    "\n",
    "Output - \n",
    "Cell In[11], line 5\n",
    "    True = 50\n",
    "    ^\n",
    "SyntaxError: cannot assign to True\n",
    "'''"
   ]
  },
  {
   "cell_type": "code",
   "execution_count": 7,
   "metadata": {},
   "outputs": [],
   "source": [
    "# Q3. Can we actually declare a string as a variable name?\n",
    "# Yes, we can declare a string as a variable name\n",
    "# Example - \n",
    "\n",
    "string  = \"Namskar\""
   ]
  },
  {
   "cell_type": "code",
   "execution_count": 16,
   "metadata": {},
   "outputs": [
    {
     "name": "stdout",
     "output_type": "stream",
     "text": [
      "Hello\n"
     ]
    }
   ],
   "source": [
    "# Q4. Is it possible for us to declare “_” as a variable? If so, then write an example of it.\n",
    "# Yes, it is possible.\n",
    "\n",
    "_ = \"Hello\"\n",
    "print(_)"
   ]
  },
  {
   "cell_type": "code",
   "execution_count": 17,
   "metadata": {},
   "outputs": [
    {
     "name": "stdout",
     "output_type": "stream",
     "text": [
      "Hello World\n"
     ]
    }
   ],
   "source": [
    "# Q5. Using an example, explain how the variables in python are dynamic in nature.\n",
    "# In given example first intialize variable x = 10 and modify the value of x.\n",
    " \n",
    "x = 10\n",
    "x = \"Hello World\"\n",
    "print(x)"
   ]
  }
 ],
 "metadata": {
  "kernelspec": {
   "display_name": "Python 3",
   "language": "python",
   "name": "python3"
  },
  "language_info": {
   "codemirror_mode": {
    "name": "ipython",
    "version": 3
   },
   "file_extension": ".py",
   "mimetype": "text/x-python",
   "name": "python",
   "nbconvert_exporter": "python",
   "pygments_lexer": "ipython3",
   "version": "3.10.2"
  },
  "orig_nbformat": 4
 },
 "nbformat": 4,
 "nbformat_minor": 2
}
