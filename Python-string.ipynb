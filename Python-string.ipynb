{
 "cells": [
  {
   "cell_type": "code",
   "execution_count": 6,
   "metadata": {},
   "outputs": [
    {
     "name": "stdout",
     "output_type": "stream",
     "text": [
      "I'm Harish Chandra\n",
      "I'm Harish Chandra\n"
     ]
    }
   ],
   "source": [
    "# Q1. How can we store a s1ngle quote (') as a str1ng 1n a var1able? \n",
    "\n",
    "singleQuoteVariable = \"I'm Harish Chandra\"\n",
    "anotherMethod = \"I\\'m Harish Chandra\"\n",
    "print(singleQuoteVariable)\n",
    "print(anotherMethod)"
   ]
  },
  {
   "cell_type": "code",
   "execution_count": 8,
   "metadata": {},
   "outputs": [
    {
     "data": {
      "text/plain": [
       "str"
      ]
     },
     "execution_count": 8,
     "metadata": {},
     "output_type": "execute_result"
    }
   ],
   "source": [
    "# Q2. Refer the below var1able:\n",
    "# x = 'a'\n",
    "# Here, is x a character type or str1ng type var1able? Support your answer w1th an explanat1on.\n",
    "\n",
    "'''\n",
    "    Python does not have a character data type. A single character is simply a string with a lenght of 1.\n",
    "'''\n",
    "x = 'a'\n",
    "type(x)"
   ]
  },
  {
   "cell_type": "code",
   "execution_count": 17,
   "metadata": {},
   "outputs": [
    {
     "data": {
      "text/plain": [
       "'Welcome to Python foundation course by Physics Wallah'"
      ]
     },
     "execution_count": 17,
     "metadata": {},
     "output_type": "execute_result"
    }
   ],
   "source": [
    "# Q3. Apply the following functions on this variable: 'Welcome to Python foundation course'\n",
    "# (1) find()\n",
    "# (2) count()\n",
    "# (3) len()\n",
    "# (4) concatenation\n",
    "# Note: You can use your choice of parameters. But make sure it is correct.\n",
    "\n",
    "var = \"Welcome to Python foundation course\"\n",
    "convar = \"by Physics Wallah\"\n",
    "var.find('Python') # 11\n",
    "var.count('o') # 6\n",
    "len(var) # 35\n",
    "var +\" \"+ convar # \"Welcome to Python foundation course by Physics Wallah\""
   ]
  },
  {
   "cell_type": "code",
   "execution_count": 24,
   "metadata": {},
   "outputs": [
    {
     "name": "stdout",
     "output_type": "stream",
     "text": [
      "Total number of alphabates in lowercase :  5\n",
      "Total number of alphabates in uppercase :  1\n",
      "Total number of numerical in string :  5\n"
     ]
    }
   ],
   "source": [
    "# Q4. For the variable : word = \"Panaji@12256\"\n",
    "# Calculate the following \n",
    "#   (1) Total number of alphabates in lowercase  \n",
    "#   (2) Total number of alphabates in uppercase  \n",
    "#   (3) Total number of numerical in string\n",
    "\n",
    "word = \"Panaji@12256\"\n",
    "lowerCase = upperCase = numerical = 0\n",
    "for i in range(len(word)):\n",
    "    if word[i].islower():\n",
    "        lowerCase += 1\n",
    "    elif word[i].isupper():\n",
    "        upperCase += 1\n",
    "    elif word[i].isdigit():\n",
    "        numerical += 1\n",
    "    else:\n",
    "        pass\n",
    "\n",
    "print(\"Total number of alphabates in lowercase : \", lowerCase)\n",
    "print(\"Total number of alphabates in uppercase : \", upperCase)\n",
    "print(\"Total number of numerical in string : \", numerical)"
   ]
  },
  {
   "cell_type": "code",
   "execution_count": 28,
   "metadata": {},
   "outputs": [
    {
     "name": "stdout",
     "output_type": "stream",
     "text": [
      "Before type cast :  <class 'int'>\n",
      "After type cast :  <class 'str'>\n"
     ]
    }
   ],
   "source": [
    "# Q5. Wr1te a code to store a numerical value inside a variable then convert it into str1ng.\n",
    "\n",
    "phoneNumber = 100\n",
    "print(\"Before type cast : \",type(phoneNumber))\n",
    "\n",
    "phoneNumber = str(phoneNumber)\n",
    "print(\"After type cast : \",type(phoneNumber))"
   ]
  }
 ],
 "metadata": {
  "kernelspec": {
   "display_name": "Python 3",
   "language": "python",
   "name": "python3"
  },
  "language_info": {
   "codemirror_mode": {
    "name": "ipython",
    "version": 3
   },
   "file_extension": ".py",
   "mimetype": "text/x-python",
   "name": "python",
   "nbconvert_exporter": "python",
   "pygments_lexer": "ipython3",
   "version": "3.10.2"
  },
  "orig_nbformat": 4
 },
 "nbformat": 4,
 "nbformat_minor": 2
}
