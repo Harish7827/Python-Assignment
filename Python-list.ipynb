{
 "cells": [
  {
   "cell_type": "code",
   "execution_count": 8,
   "metadata": {},
   "outputs": [
    {
     "name": "stdout",
     "output_type": "stream",
     "text": [
      "[]\n"
     ]
    }
   ],
   "source": [
    "# Q1. Create an empty list.\n",
    "\n",
    "emptyList = []\n",
    "print(emptyList)"
   ]
  },
  {
   "cell_type": "code",
   "execution_count": 7,
   "metadata": {},
   "outputs": [
    {
     "name": "stdout",
     "output_type": "stream",
     "text": [
      "[1, 2, 3, 4, 5, 6, 7]\n"
     ]
    }
   ],
   "source": [
    "# Q2. Create a list and add an element to the end of this list.\n",
    "\n",
    "list = [1,2,3,4,5,6]\n",
    "list.append(7)\n",
    "print(list)"
   ]
  },
  {
   "cell_type": "code",
   "execution_count": 9,
   "metadata": {},
   "outputs": [
    {
     "name": "stdout",
     "output_type": "stream",
     "text": [
      "7\n"
     ]
    }
   ],
   "source": [
    "# Q3. For the above created list print the last element.\n",
    "\n",
    "print(list[-1])"
   ]
  },
  {
   "cell_type": "code",
   "execution_count": 20,
   "metadata": {},
   "outputs": [
    {
     "name": "stdout",
     "output_type": "stream",
     "text": [
      "[7, 6, 5, 4, 3, 2, 1]\n"
     ]
    }
   ],
   "source": [
    "# Q4. Reverse the above created list.\n",
    "list.reverse()\n",
    "print(list)"
   ]
  },
  {
   "cell_type": "code",
   "execution_count": 21,
   "metadata": {},
   "outputs": [
    {
     "name": "stdout",
     "output_type": "stream",
     "text": [
      "[1, 2, 3, 4, 5, 6, 7]\n"
     ]
    }
   ],
   "source": [
    "# Q5. Sort the above created list.\n",
    "list.sort()\n",
    "print(list)"
   ]
  },
  {
   "cell_type": "code",
   "execution_count": 22,
   "metadata": {},
   "outputs": [
    {
     "name": "stdout",
     "output_type": "stream",
     "text": [
      "Border\n"
     ]
    }
   ],
   "source": [
    "# Q6. Create a list of your top three favorite movies, then print the second movie title.\n",
    "\n",
    "favMovies = [\"Nirahua Hindustani\", \"Border\", \"Uri The Surgical Strike\"]\n",
    "print(favMovies[1])"
   ]
  },
  {
   "cell_type": "code",
   "execution_count": 29,
   "metadata": {},
   "outputs": [
    {
     "name": "stdout",
     "output_type": "stream",
     "text": [
      "Updated List:  ['Dog', 'Cat', 'Goat', 'Buffalo', 'Horse']\n"
     ]
    }
   ],
   "source": [
    "# Q7. Create a list of your favorite animals, then add a new animal to the list and print the updated list.\n",
    "\n",
    "favAnimal = [\"Dog\", \"Cat\", \"Goat\", \"Buffalo\"]\n",
    "favAnimal.append(\"Horse\")\n",
    "print(\"Updated List: \",favAnimal)"
   ]
  },
  {
   "cell_type": "code",
   "execution_count": 32,
   "metadata": {},
   "outputs": [
    {
     "data": {
      "text/plain": [
       "0"
      ]
     },
     "execution_count": 32,
     "metadata": {},
     "output_type": "execute_result"
    }
   ],
   "source": [
    "# Q8. Create a list of your favorite cities, then use the index() method to find the position of a specific city on the list and print it.\n",
    "\n",
    "favCity = [\"Jaunpur\" , \"Banaras\" , \"New Delhi\" , \"Mumbai\" , \"Prayag Raj\"]\n",
    "favCity.index(\"Jaunpur\")"
   ]
  }
 ],
 "metadata": {
  "kernelspec": {
   "display_name": "Python 3",
   "language": "python",
   "name": "python3"
  },
  "language_info": {
   "codemirror_mode": {
    "name": "ipython",
    "version": 3
   },
   "file_extension": ".py",
   "mimetype": "text/x-python",
   "name": "python",
   "nbconvert_exporter": "python",
   "pygments_lexer": "ipython3",
   "version": "3.10.2"
  },
  "orig_nbformat": 4
 },
 "nbformat": 4,
 "nbformat_minor": 2
}
