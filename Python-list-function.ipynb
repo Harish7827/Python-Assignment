{
 "cells": [
  {
   "cell_type": "code",
   "execution_count": 1,
   "metadata": {},
   "outputs": [],
   "source": [
    "# Q1. What is the syntax for adding an element to a list in Python?\n",
    "\n",
    "# There are four methods to add element to a List in python\n",
    "#   (1) append() : append the element to the end of the list.\n",
    "#   (2) insert() : inserts the element before the given index.\n",
    "#   (3) extend() : extends the list by appending elements from the iterable.\n",
    "#   (4) List concatenation : We can use '+' operator to concatenate multiple lists and create a new list. "
   ]
  },
  {
   "cell_type": "code",
   "execution_count": 2,
   "metadata": {},
   "outputs": [],
   "source": [
    "# Q2. What is the difference between remove() and pop() functions in Python?\n",
    "\n",
    "# pop() : pop() function removes the last element based or the element based on the index given.\n",
    "# remove() : remove() function removes the first occurrence of the specified element.\n",
    " "
   ]
  },
  {
   "cell_type": "code",
   "execution_count": 6,
   "metadata": {},
   "outputs": [
    {
     "name": "stdout",
     "output_type": "stream",
     "text": [
      "[9, 8, 7, 5, 3, 2, 1, 0]\n"
     ]
    }
   ],
   "source": [
    "# Q3. Write a Python code to sort a list in descending order.\n",
    "\n",
    "list = [1,3,5,7,9,2,0,8]\n",
    "list.sort(reverse = True)\n",
    "print(list)"
   ]
  },
  {
   "cell_type": "code",
   "execution_count": 7,
   "metadata": {},
   "outputs": [
    {
     "data": {
      "text/plain": [
       "5"
      ]
     },
     "execution_count": 7,
     "metadata": {},
     "output_type": "execute_result"
    }
   ],
   "source": [
    "# Q4. Write a Python code to count the number of occurrences of an element in a list.\n",
    "\n",
    "list = [1,3,5,7,9,2,0,8,8,7,5,6,8,5,4,2,6,8,6,8]\n",
    "list.count(8) # Here element 8 occur 5 times."
   ]
  },
  {
   "cell_type": "code",
   "execution_count": 8,
   "metadata": {},
   "outputs": [
    {
     "name": "stdout",
     "output_type": "stream",
     "text": [
      "Simple List :  [1, 3, 5, 7, 9, 2, 0, 8]\n",
      "Reversed List :  [8, 0, 2, 9, 7, 5, 3, 1]\n"
     ]
    }
   ],
   "source": [
    "# 5. Write a Python code to reverse a list. \n",
    "\n",
    "list = [1,3,5,7,9,2,0,8]\n",
    "print(\"Simple List : \", list)\n",
    "list.reverse()\n",
    "print(\"Reversed List : \", list)"
   ]
  }
 ],
 "metadata": {
  "kernelspec": {
   "display_name": "Python 3",
   "language": "python",
   "name": "python3"
  },
  "language_info": {
   "codemirror_mode": {
    "name": "ipython",
    "version": 3
   },
   "file_extension": ".py",
   "mimetype": "text/x-python",
   "name": "python",
   "nbconvert_exporter": "python",
   "pygments_lexer": "ipython3",
   "version": "3.10.2"
  },
  "orig_nbformat": 4
 },
 "nbformat": 4,
 "nbformat_minor": 2
}
